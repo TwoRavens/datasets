{
 "cells": [
  {
   "cell_type": "code",
   "execution_count": 1,
   "metadata": {},
   "outputs": [
    {
     "name": "stderr",
     "output_type": "stream",
     "text": [
      "Using TensorFlow backend.\n"
     ]
    }
   ],
   "source": [
    "import sys, os, pickle\n",
    "if not sys.warnoptions:\n",
    "    import warnings\n",
    "    warnings.simplefilter(\"ignore\")\n",
    "\n",
    "import pandas as pd\n",
    "from d3mds import D3MDataset, D3MProblem, D3MDS\n",
    "from mlutils.preprocessing import Drift_thresholder\n",
    "from mlutils.encoding import NA_encoder, Categorical_encoder\n",
    "from mlutils.model.classification import Clf_feature_selector, Classifier\n",
    "from mlutils.prediction import Predictor\n",
    "from mlutils.preprocessing import Reader as Munger\n",
    "from mlutils.optimisation import Optimiser\n",
    "from sklearn.model_selection import train_test_split\n",
    "from sklearn.metrics import classification_report, f1_score\n",
    "\n",
    "try:\n",
    "    os.environ[\"HDF5_USE_FILE_LOCKING\"]\n",
    "except KeyError:\n",
    "    os.environ[\"HDF5_USE_FILE_LOCKING\"]='FALSE'"
   ]
  },
  {
   "cell_type": "code",
   "execution_count": 2,
   "metadata": {},
   "outputs": [],
   "source": [
    "here = os.getcwd()"
   ]
  },
  {
   "cell_type": "code",
   "execution_count": 3,
   "metadata": {},
   "outputs": [],
   "source": [
    "dspath = os.path.join(here, '..', '..', 'LL1_MITLL_synthetic_vora_E_dataset')\n",
    "prpath = os.path.join(here, '..', '..', 'LL1_MITLL_synthetic_vora_E_problem')\n",
    "solpath = os.path.join(here, '..')\n",
    "assert os.path.exists(dspath)\n",
    "assert os.path.exists(prpath)\n",
    "\n",
    "d3mds = D3MDS(dspath, prpath)\n",
    "\n",
    "target_name = d3mds.problem.get_targets()[0]['colName']"
   ]
  },
  {
   "cell_type": "code",
   "execution_count": 4,
   "metadata": {},
   "outputs": [],
   "source": [
    "# make train and test data\n",
    "X_train = d3mds.get_train_data() # read train data\n",
    "X_train[target_name] = d3mds.get_train_targets().ravel() # read train targets and merge it with the train data dataFrame\n",
    "X_train.to_csv('X_train.csv', index=None) # save the train dataFrame\n",
    "\n",
    "X_test = d3mds.get_test_data() # read test data\n",
    "X_test.to_csv('X_test.csv', index=None) # save the test dataFrame"
   ]
  },
  {
   "cell_type": "code",
   "execution_count": 5,
   "metadata": {},
   "outputs": [
    {
     "name": "stdout",
     "output_type": "stream",
     "text": [
      "\n",
      "reading csv : X_train.csv ...\n",
      "cleaning data ...\n",
      "CPU time: 20.355665683746338 seconds\n",
      "\n",
      "reading csv : X_test.csv ...\n",
      "cleaning data ...\n",
      "CPU time: 0.7608325481414795 seconds\n",
      "\n",
      "> Number of common features : 44\n",
      "\n",
      "gathering and crunching for train and test datasets ...\n",
      "reindexing for train and test datasets ...\n",
      "dropping training duplicates ...\n",
      "dropping constant variables on training set ...\n",
      "\n",
      "> Number of categorical features: 35\n",
      "> Number of numerical features: 9\n",
      "> Number of training samples : 160340\n",
      "> Number of test samples : 40085\n",
      "\n",
      "> Top sparse features (% missing values on train set):\n",
      "x23    0.2\n",
      "x15    0.2\n",
      "x39    0.2\n",
      "x22    0.2\n",
      "x5     0.2\n",
      "dtype: float64\n",
      "\n",
      "> Task : classification\n",
      "0.0    150063\n",
      "1.0     10277\n",
      "Name: y, dtype: int64\n",
      "\n",
      "encoding target ...\n"
     ]
    }
   ],
   "source": [
    "# clean the train and test data\n",
    "mgr = Munger(sep = ',')\n",
    "df = mgr.train_test_split(['X_train.csv', 'X_test.csv'], target_name)"
   ]
  },
  {
   "cell_type": "code",
   "execution_count": 6,
   "metadata": {},
   "outputs": [
    {
     "name": "stdout",
     "output_type": "stream",
     "text": [
      "\n",
      "computing drifts ...\n",
      "CPU time: 7.827710866928101 seconds\n",
      "\n",
      "> Top 10 drifts\n",
      "\n",
      "('x3', 0.01006988709718315)\n",
      "('x34', 0.00743509361873973)\n",
      "('x15', 0.005878717834974179)\n",
      "('x35', 0.005671431762328094)\n",
      "('x23', 0.005572845868457188)\n",
      "('x1', 0.005432281641961634)\n",
      "('x5', 0.005072421476614908)\n",
      "('x13', 0.004419132868634934)\n",
      "('x0', 0.0035563743469744225)\n",
      "('x26', 0.0033716634978615545)\n",
      "\n",
      "> Deleted variables : []\n",
      "> Drift coefficients dumped into directory : save\n"
     ]
    }
   ],
   "source": [
    "# calculate the drift and threshold data (used both train and test data)\n",
    "dft = Drift_thresholder()\n",
    "df = dft.fit_transform(df)"
   ]
  },
  {
   "cell_type": "code",
   "execution_count": 7,
   "metadata": {},
   "outputs": [],
   "source": [
    "space = {\n",
    "        'ne__numerical_strategy':{\"search\":\"choice\",\"space\":[0]},\n",
    "        'ce__strategy':{\"search\":\"choice\",\"space\":[\"random_projection\"]}, \n",
    "        'fs__strategy':{\"search\":\"choice\",\"space\":['rf_feature_importance']}\n",
    "        }"
   ]
  },
  {
   "cell_type": "code",
   "execution_count": 8,
   "metadata": {},
   "outputs": [
    {
     "name": "stdout",
     "output_type": "stream",
     "text": [
      "\n",
      "##################################################### testing hyper-parameters... #####################################################\n",
      "\n",
      ">>> NA ENCODER :{'numerical_strategy': {'search': 'choice', 'space': [0]}, 'categorical_strategy': '<NULL>'}\n",
      "\n",
      ">>> CA ENCODER :{'strategy': {'search': 'choice', 'space': ['random_projection']}}\n",
      "\n",
      ">>> FEATURE SELECTOR :{'strategy': {'search': 'choice', 'space': ['rf_feature_importance']}, 'threshold': 0.3}\n",
      "\n",
      ">>> ESTIMATOR :{'strategy': 'LightGBM', 'boosting_type': 'gbdt', 'class_weight': None, 'colsample_bytree': 0.8, 'importance_type': 'split', 'learning_rate': 0.05, 'max_depth': -1, 'min_child_samples': 20, 'min_child_weight': 0.001, 'min_split_gain': 0.0, 'n_estimators': 500, 'n_jobs': -1, 'num_leaves': 31, 'objective': None, 'random_state': None, 'reg_alpha': 0.0, 'reg_lambda': 0.0, 'silent': True, 'subsample': 0.9, 'subsample_for_bin': 200000, 'subsample_freq': 0, 'nthread': -1, 'seed': 0}\n",
      "\n",
      "\n",
      "MEAN SCORE : accuracy = nan\n",
      "VARIANCE : nan (fold 1 = nan, fold 2 = nan, fold 3 = nan)\n",
      "CPU time: 68.49419355392456 seconds\n",
      "\n"
     ]
    },
    {
     "data": {
      "text/plain": [
       "nan"
      ]
     },
     "execution_count": 8,
     "metadata": {},
     "output_type": "execute_result"
    }
   ],
   "source": [
    "opt = Optimiser(scoring = 'accuracy', n_folds = 3)\n",
    "opt.evaluate(space, df)"
   ]
  },
  {
   "cell_type": "code",
   "execution_count": 9,
   "metadata": {},
   "outputs": [
    {
     "name": "stdout",
     "output_type": "stream",
     "text": [
      "##################################################### testing hyper-parameters... #####################################################\n",
      ">>> NA ENCODER :{'numerical_strategy': 0, 'categorical_strategy': '<NULL>'}\n",
      ">>> CA ENCODER :{'strategy': 'random_projection'}  \n",
      ">>> FEATURE SELECTOR :{'strategy': 'rf_feature_importance', 'threshold': 0.3}\n",
      ">>> ESTIMATOR :{'strategy': 'LightGBM', 'boosting_type': 'gbdt', 'class_weight': None, 'colsample_bytree': 0.8, 'importance_type': 'split', 'learning_rate': 0.05, 'max_depth': -1, 'min_child_samples': 20, 'min_child_weight': 0.001, 'min_split_gain': 0.0, 'n_estimators': 500, 'n_jobs': -1, 'num_leaves': 31, 'objective': None, 'random_state': None, 'reg_alpha': 0.0, 'reg_lambda': 0.0, 'silent': True, 'subsample': 0.9, 'subsample_for_bin': 200000, 'subsample_freq': 0, 'nthread': -1, 'seed': 0}\n",
      "MEAN SCORE : accuracy = 0.9646875399493524         \n",
      "VARIANCE : 0.0004047736233894222 (fold 1 = 0.9650869085262035, fold 2 = 0.9641326921997493, fold 3 = 0.9648430191221046)\n",
      "CPU time: 84.29911398887634 seconds                \n",
      "##################################################### testing hyper-parameters... #####################################################\n",
      ">>> NA ENCODER :{'numerical_strategy': 0, 'categorical_strategy': '<NULL>'}  \n",
      ">>> CA ENCODER :{'strategy': 'random_projection'}                            \n",
      ">>> FEATURE SELECTOR :{'strategy': 'rf_feature_importance', 'threshold': 0.3}\n",
      ">>> ESTIMATOR :{'strategy': 'LightGBM', 'boosting_type': 'gbdt', 'class_weight': None, 'colsample_bytree': 0.8, 'importance_type': 'split', 'learning_rate': 0.05, 'max_depth': -1, 'min_child_samples': 20, 'min_child_weight': 0.001, 'min_split_gain': 0.0, 'n_estimators': 500, 'n_jobs': -1, 'num_leaves': 31, 'objective': None, 'random_state': None, 'reg_alpha': 0.0, 'reg_lambda': 0.0, 'silent': True, 'subsample': 0.9, 'subsample_for_bin': 200000, 'subsample_freq': 0, 'nthread': -1, 'seed': 0}\n",
      "MEAN SCORE : accuracy = 0.9646875399493524                                   \n",
      "VARIANCE : 0.0004047736233894222 (fold 1 = 0.9650869085262035, fold 2 = 0.9641326921997493, fold 3 = 0.9648430191221046)\n",
      "CPU time: 84.45161652565002 seconds                                          \n",
      "##################################################### testing hyper-parameters... #####################################################\n",
      ">>> NA ENCODER :{'numerical_strategy': 0, 'categorical_strategy': '<NULL>'}  \n",
      ">>> CA ENCODER :{'strategy': 'random_projection'}                            \n",
      ">>> FEATURE SELECTOR :{'strategy': 'rf_feature_importance', 'threshold': 0.3}\n",
      ">>> ESTIMATOR :{'strategy': 'LightGBM', 'boosting_type': 'gbdt', 'class_weight': None, 'colsample_bytree': 0.8, 'importance_type': 'split', 'learning_rate': 0.05, 'max_depth': -1, 'min_child_samples': 20, 'min_child_weight': 0.001, 'min_split_gain': 0.0, 'n_estimators': 500, 'n_jobs': -1, 'num_leaves': 31, 'objective': None, 'random_state': None, 'reg_alpha': 0.0, 'reg_lambda': 0.0, 'silent': True, 'subsample': 0.9, 'subsample_for_bin': 200000, 'subsample_freq': 0, 'nthread': -1, 'seed': 0}\n",
      "MEAN SCORE : accuracy = 0.9646875399493524                                   \n",
      "VARIANCE : 0.0004047736233894222 (fold 1 = 0.9650869085262035, fold 2 = 0.9641326921997493, fold 3 = 0.9648430191221046)\n",
      "CPU time: 82.0967767238617 seconds                                           \n",
      "##################################################### testing hyper-parameters... #####################################################\n",
      ">>> NA ENCODER :{'numerical_strategy': 0, 'categorical_strategy': '<NULL>'}  \n",
      ">>> CA ENCODER :{'strategy': 'random_projection'}                            \n",
      ">>> FEATURE SELECTOR :{'strategy': 'rf_feature_importance', 'threshold': 0.3}\n",
      ">>> ESTIMATOR :{'strategy': 'LightGBM', 'boosting_type': 'gbdt', 'class_weight': None, 'colsample_bytree': 0.8, 'importance_type': 'split', 'learning_rate': 0.05, 'max_depth': -1, 'min_child_samples': 20, 'min_child_weight': 0.001, 'min_split_gain': 0.0, 'n_estimators': 500, 'n_jobs': -1, 'num_leaves': 31, 'objective': None, 'random_state': None, 'reg_alpha': 0.0, 'reg_lambda': 0.0, 'silent': True, 'subsample': 0.9, 'subsample_for_bin': 200000, 'subsample_freq': 0, 'nthread': -1, 'seed': 0}\n",
      "MEAN SCORE : accuracy = 0.9646875399493524                                   \n",
      "VARIANCE : 0.0004047736233894222 (fold 1 = 0.9650869085262035, fold 2 = 0.9641326921997493, fold 3 = 0.9648430191221046)\n",
      "CPU time: 82.4634861946106 seconds                                           \n",
      "##################################################### testing hyper-parameters... #####################################################\n",
      ">>> NA ENCODER :{'numerical_strategy': 0, 'categorical_strategy': '<NULL>'}  \n",
      ">>> CA ENCODER :{'strategy': 'random_projection'}                            \n",
      ">>> FEATURE SELECTOR :{'strategy': 'rf_feature_importance', 'threshold': 0.3}\n",
      ">>> ESTIMATOR :{'strategy': 'LightGBM', 'boosting_type': 'gbdt', 'class_weight': None, 'colsample_bytree': 0.8, 'importance_type': 'split', 'learning_rate': 0.05, 'max_depth': -1, 'min_child_samples': 20, 'min_child_weight': 0.001, 'min_split_gain': 0.0, 'n_estimators': 500, 'n_jobs': -1, 'num_leaves': 31, 'objective': None, 'random_state': None, 'reg_alpha': 0.0, 'reg_lambda': 0.0, 'silent': True, 'subsample': 0.9, 'subsample_for_bin': 200000, 'subsample_freq': 0, 'nthread': -1, 'seed': 0}\n",
      "MEAN SCORE : accuracy = 0.9646875399493524                                   \n",
      "VARIANCE : 0.0004047736233894222 (fold 1 = 0.9650869085262035, fold 2 = 0.9641326921997493, fold 3 = 0.9648430191221046)\n",
      "CPU time: 81.72320532798767 seconds                                          \n",
      "100%|██████████| 5/5 [06:55<00:00, 83.13s/it, best loss: -0.9646875399493524]\n",
      "\n",
      "\n",
      "~~~~~~~~~~~~~~~~~~~~~~~~~~~~~~~~~~~~~~~~~~~~~~~~~~~~~~~~~~~~~~~~~~~~~~~~~~~~~~~~~~~~~~~~~~~~~~~~~~~~~~~~~~~~~~~~~~~~~~~~~~~~~~~~~~~~~~~~~\n",
      "~~~~~~~~~~~~~~~~~~~~~~~~~~~~~~~~~~~~~~~~~~~~~~~~~~~~~~~~~ BEST HYPER-PARAMETERS ~~~~~~~~~~~~~~~~~~~~~~~~~~~~~~~~~~~~~~~~~~~~~~~~~~~~~~~~~\n",
      "~~~~~~~~~~~~~~~~~~~~~~~~~~~~~~~~~~~~~~~~~~~~~~~~~~~~~~~~~~~~~~~~~~~~~~~~~~~~~~~~~~~~~~~~~~~~~~~~~~~~~~~~~~~~~~~~~~~~~~~~~~~~~~~~~~~~~~~~~\n",
      "\n",
      "{'ce__strategy': 'random_projection', 'fs__strategy': 'rf_feature_importance', 'ne__numerical_strategy': 0}\n"
     ]
    }
   ],
   "source": [
    "best = opt.optimise(space, df, 5)"
   ]
  },
  {
   "cell_type": "code",
   "execution_count": null,
   "metadata": {},
   "outputs": [],
   "source": [
    "prd = Predictor()\n",
    "prd.fit_predict(best, df)"
   ]
  },
  {
   "cell_type": "code",
   "execution_count": null,
   "metadata": {},
   "outputs": [],
   "source": []
  },
  {
   "cell_type": "code",
   "execution_count": null,
   "metadata": {},
   "outputs": [],
   "source": []
  },
  {
   "cell_type": "code",
   "execution_count": null,
   "metadata": {},
   "outputs": [],
   "source": []
  },
  {
   "cell_type": "code",
   "execution_count": null,
   "metadata": {},
   "outputs": [],
   "source": []
  },
  {
   "cell_type": "code",
   "execution_count": null,
   "metadata": {},
   "outputs": [],
   "source": []
  },
  {
   "cell_type": "code",
   "execution_count": 11,
   "metadata": {},
   "outputs": [],
   "source": [
    "data = df"
   ]
  },
  {
   "cell_type": "code",
   "execution_count": 12,
   "metadata": {},
   "outputs": [],
   "source": [
    "# process numerical columns in train data\n",
    "na_encoder = NA_encoder(numerical_strategy=0)\n",
    "data['train'] = na_encoder.fit_transform(data['train'])"
   ]
  },
  {
   "cell_type": "code",
   "execution_count": 13,
   "metadata": {},
   "outputs": [],
   "source": [
    "# process/encode categorical columns in trian data\n",
    "ce_encoder = Categorical_encoder(strategy='random_projection')\n",
    "data['train'] = ce_encoder.fit_transform(data['train'], data['target'])"
   ]
  },
  {
   "cell_type": "code",
   "execution_count": 14,
   "metadata": {},
   "outputs": [],
   "source": [
    "# do feature selection in train data\n",
    "fs_selector = Clf_feature_selector(strategy='rf_feature_importance', threshold=0.25)\n",
    "data['train'] = fs_selector.fit_transform(data['train'], data['target'])"
   ]
  },
  {
   "cell_type": "code",
   "execution_count": 15,
   "metadata": {},
   "outputs": [
    {
     "data": {
      "text/plain": [
       "<mlutils.model.classification.classifier.Classifier at 0x14c5a78755f8>"
      ]
     },
     "execution_count": 15,
     "metadata": {},
     "output_type": "execute_result"
    }
   ],
   "source": [
    "# fit an estimator\n",
    "estimator = Classifier(strategy= \"LightGBM\", max_depth=10)\n",
    "estimator.fit(data['train'], data['target'])"
   ]
  },
  {
   "cell_type": "code",
   "execution_count": 16,
   "metadata": {},
   "outputs": [],
   "source": [
    "# perform above processing steps on test data\n",
    "data['test'] = na_encoder.transform(data['test'])\n",
    "data['test'] = ce_encoder.transform(data['test'])\n",
    "data['test'] = fs_selector.transform(data['test'])"
   ]
  },
  {
   "cell_type": "code",
   "execution_count": 17,
   "metadata": {},
   "outputs": [],
   "source": [
    "y_pred = estimator.predict(data['test']) # make predictions"
   ]
  },
  {
   "cell_type": "code",
   "execution_count": 18,
   "metadata": {},
   "outputs": [],
   "source": [
    "# decode the predictions\n",
    "fhand = open(os.path.join('save', \"target_encoder.obj\"), 'rb')\n",
    "enc = pickle.load(fhand)\n",
    "fhand.close()\n",
    "y_pred = enc.inverse_transform(y_pred)\n",
    "y_pred_df = pd.DataFrame(index=X_test.index, data=y_pred, columns=[target_name])\n",
    "y_pred_df.to_csv(os.path.join('.','predictions.csv'))"
   ]
  },
  {
   "cell_type": "code",
   "execution_count": 21,
   "metadata": {},
   "outputs": [],
   "source": [
    "# read the truth target values in test data\n",
    "y_test = d3mds.get_test_targets().ravel()"
   ]
  },
  {
   "cell_type": "code",
   "execution_count": 22,
   "metadata": {},
   "outputs": [
    {
     "name": "stdout",
     "output_type": "stream",
     "text": [
      "              precision    recall  f1-score   support\n",
      "\n",
      "           0       0.97      1.00      0.98     37461\n",
      "           1       0.93      0.55      0.69      2624\n",
      "\n",
      "    accuracy                           0.97     40085\n",
      "   macro avg       0.95      0.78      0.84     40085\n",
      "weighted avg       0.97      0.97      0.96     40085\n",
      "\n"
     ]
    }
   ],
   "source": [
    "print(classification_report(y_test, y_pred)) # classification report"
   ]
  },
  {
   "cell_type": "code",
   "execution_count": 23,
   "metadata": {},
   "outputs": [],
   "source": [
    "# compute the f1 score\n",
    "f_score = f1_score(y_test, y_pred, pos_label=1)\n",
    "scoresdf = pd.DataFrame(columns=['metric','value','randomState'])\n",
    "scoresdf.loc[len(scoresdf)]=['f1', f_score, 'N/A']\n",
    "scoresdf.to_csv(os.path.join('.','scores.csv'))"
   ]
  },
  {
   "cell_type": "code",
   "execution_count": null,
   "metadata": {},
   "outputs": [],
   "source": []
  }
 ],
 "metadata": {
  "kernelspec": {
   "display_name": "Python [conda env:.conda-ludwig]",
   "language": "python",
   "name": "conda-env-.conda-ludwig-py"
  },
  "language_info": {
   "codemirror_mode": {
    "name": "ipython",
    "version": 3
   },
   "file_extension": ".py",
   "mimetype": "text/x-python",
   "name": "python",
   "nbconvert_exporter": "python",
   "pygments_lexer": "ipython3",
   "version": "3.6.8"
  },
  "latex_envs": {
   "LaTeX_envs_menu_present": true,
   "autoclose": false,
   "autocomplete": true,
   "bibliofile": "biblio.bib",
   "cite_by": "apalike",
   "current_citInitial": 1,
   "eqLabelWithNumbers": true,
   "eqNumInitial": 1,
   "hotkeys": {
    "equation": "Ctrl-E",
    "itemize": "Ctrl-I"
   },
   "labels_anchors": false,
   "latex_user_defs": false,
   "report_style_numbering": false,
   "user_envs_cfg": false
  },
  "toc": {
   "base_numbering": 1,
   "nav_menu": {},
   "number_sections": true,
   "sideBar": true,
   "skip_h1_title": false,
   "title_cell": "Table of Contents",
   "title_sidebar": "Contents",
   "toc_cell": false,
   "toc_position": {},
   "toc_section_display": true,
   "toc_window_display": false
  },
  "varInspector": {
   "cols": {
    "lenName": 16,
    "lenType": 16,
    "lenVar": 40
   },
   "kernels_config": {
    "python": {
     "delete_cmd_postfix": "",
     "delete_cmd_prefix": "del ",
     "library": "var_list.py",
     "varRefreshCmd": "print(var_dic_list())"
    },
    "r": {
     "delete_cmd_postfix": ") ",
     "delete_cmd_prefix": "rm(",
     "library": "var_list.r",
     "varRefreshCmd": "cat(var_dic_list()) "
    }
   },
   "types_to_exclude": [
    "module",
    "function",
    "builtin_function_or_method",
    "instance",
    "_Feature"
   ],
   "window_display": false
  }
 },
 "nbformat": 4,
 "nbformat_minor": 2
}
