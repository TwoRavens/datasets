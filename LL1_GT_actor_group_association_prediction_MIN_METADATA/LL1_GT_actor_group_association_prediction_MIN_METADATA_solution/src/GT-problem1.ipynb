{
 "cells": [
  {
   "cell_type": "code",
   "execution_count": 158,
   "metadata": {},
   "outputs": [],
   "source": [
    "# Proof of concept\n",
    "# Solving the GT problem as a purely timeseries problem and not as a graph time-series problem (using ARIMA model)\n",
    "# Here, we ignore the structural aspects of the graph\n",
    "# We treat each edge weight as a signal and see how it evolves over time. \n",
    "# We observe from [1, 4000] time steps for each edge and predict for future [4001, 4210] steps\n",
    "\n",
    "# refers to the following files from the dataset here: https://gitlab.datadrivendiscovery.org/d3m/datasets/tree/master/seed_datasets_current/LL1_GT_actor_group_association_prediction_MIN_METADATA/LL1_GT_actor_group_association_prediction_MIN_METADATA_dataset\n",
    "# 1. tables/learningData.csv\n",
    "# 2. graphs/edgeList.csv"
   ]
  },
  {
   "cell_type": "code",
   "execution_count": 64,
   "metadata": {},
   "outputs": [],
   "source": [
    "import os, json\n",
    "import pandas as pd\n",
    "import seaborn as sns\n",
    "from sklearn.model_selection import train_test_split\n",
    "from sklearn.linear_model import LinearRegression\n",
    "from sklearn.metrics import mean_squared_error\n",
    "from math import sqrt\n",
    "import statsmodels.api as sm\n",
    "from sklearn.ensemble import RandomForestRegressor\n",
    "import numpy as np\n",
    "from sklearn.preprocessing import StandardScaler, MinMaxScaler\n",
    "from sklearn.compose import ColumnTransformer\n",
    "from statsmodels.tsa.arima_model import ARIMA\n",
    "from statsmodels.iolib.smpickle import load_pickle, save_pickle\n",
    "from pandas.plotting import autocorrelation_plot\n",
    "from statsmodels.graphics.tsaplots import plot_acf\n",
    "import warnings\n",
    "import numpy, random\n",
    "from collections import OrderedDict\n",
    "warnings.filterwarnings('ignore')"
   ]
  },
  {
   "cell_type": "code",
   "execution_count": 65,
   "metadata": {},
   "outputs": [],
   "source": [
    "DATA_DIR = os.path.join('../../d3m_shared/GT-datasets/problem1')\n",
    "ENDO_VAR = 'association_strength'\n",
    "train_timesteps_min = 1\n",
    "train_timesteps_max = 3999\n",
    "test_timesteps_min = 4000\n",
    "test_timesteps_max = 4210"
   ]
  },
  {
   "cell_type": "code",
   "execution_count": 66,
   "metadata": {},
   "outputs": [
    {
     "data": {
      "text/plain": [
       "<matplotlib.axes._subplots.AxesSubplot at 0x14fb81d1e278>"
      ]
     },
     "execution_count": 66,
     "metadata": {},
     "output_type": "execute_result"
    },
    {
     "data": {
      "image/png": "[encoded data removed]",
      "text/plain": [
       "<Figure size 432x288 with 1 Axes>"
      ]
     },
     "metadata": {
      "needs_background": "light"
     },
     "output_type": "display_data"
    }
   ],
   "source": [
    "df = pd.read_csv(os.path.join(DATA_DIR, 'learningData.csv'))\n",
    "sns.distplot(df['association_strength'])"
   ]
  },
  {
   "cell_type": "code",
   "execution_count": 71,
   "metadata": {},
   "outputs": [
    {
     "name": "stdout",
     "output_type": "stream",
     "text": [
      "(4357, 4)\n"
     ]
    },
    {
     "data": {
      "text/html": [
       "<div>\n",
       "<style scoped>\n",
       "    .dataframe tbody tr th:only-of-type {\n",
       "        vertical-align: middle;\n",
       "    }\n",
       "\n",
       "    .dataframe tbody tr th {\n",
       "        vertical-align: top;\n",
       "    }\n",
       "\n",
       "    .dataframe thead th {\n",
       "        text-align: right;\n",
       "    }\n",
       "</style>\n",
       "<table border=\"1\" class=\"dataframe\">\n",
       "  <thead>\n",
       "    <tr style=\"text-align: right;\">\n",
       "      <th></th>\n",
       "      <th>d3mIndex</th>\n",
       "      <th>timestep</th>\n",
       "      <th>edgeID</th>\n",
       "      <th>association_strength</th>\n",
       "    </tr>\n",
       "  </thead>\n",
       "  <tbody>\n",
       "    <tr>\n",
       "      <th>0</th>\n",
       "      <td>0</td>\n",
       "      <td>1</td>\n",
       "      <td>0</td>\n",
       "      <td>1.000000</td>\n",
       "    </tr>\n",
       "    <tr>\n",
       "      <th>2</th>\n",
       "      <td>2</td>\n",
       "      <td>1</td>\n",
       "      <td>2</td>\n",
       "      <td>0.997244</td>\n",
       "    </tr>\n",
       "    <tr>\n",
       "      <th>8</th>\n",
       "      <td>8</td>\n",
       "      <td>1</td>\n",
       "      <td>8</td>\n",
       "      <td>0.973161</td>\n",
       "    </tr>\n",
       "    <tr>\n",
       "      <th>9</th>\n",
       "      <td>9</td>\n",
       "      <td>1</td>\n",
       "      <td>9</td>\n",
       "      <td>0.950397</td>\n",
       "    </tr>\n",
       "    <tr>\n",
       "      <th>10</th>\n",
       "      <td>10</td>\n",
       "      <td>1</td>\n",
       "      <td>10</td>\n",
       "      <td>1.000000</td>\n",
       "    </tr>\n",
       "  </tbody>\n",
       "</table>\n",
       "</div>"
      ],
      "text/plain": [
       "    d3mIndex  timestep  edgeID  association_strength\n",
       "0          0         1       0              1.000000\n",
       "2          2         1       2              0.997244\n",
       "8          8         1       8              0.973161\n",
       "9          9         1       9              0.950397\n",
       "10        10         1      10              1.000000"
      ]
     },
     "metadata": {},
     "output_type": "display_data"
    },
    {
     "data": {
      "text/html": [
       "<div>\n",
       "<style scoped>\n",
       "    .dataframe tbody tr th:only-of-type {\n",
       "        vertical-align: middle;\n",
       "    }\n",
       "\n",
       "    .dataframe tbody tr th {\n",
       "        vertical-align: top;\n",
       "    }\n",
       "\n",
       "    .dataframe thead th {\n",
       "        text-align: right;\n",
       "    }\n",
       "</style>\n",
       "<table border=\"1\" class=\"dataframe\">\n",
       "  <thead>\n",
       "    <tr style=\"text-align: right;\">\n",
       "      <th></th>\n",
       "      <th>d3mIndex</th>\n",
       "      <th>timestep</th>\n",
       "      <th>edgeID</th>\n",
       "      <th>association_strength</th>\n",
       "    </tr>\n",
       "  </thead>\n",
       "  <tbody>\n",
       "    <tr>\n",
       "      <th>16702</th>\n",
       "      <td>16702</td>\n",
       "      <td>4210</td>\n",
       "      <td>217</td>\n",
       "      <td>0.989705</td>\n",
       "    </tr>\n",
       "    <tr>\n",
       "      <th>16703</th>\n",
       "      <td>16703</td>\n",
       "      <td>4210</td>\n",
       "      <td>218</td>\n",
       "      <td>0.985103</td>\n",
       "    </tr>\n",
       "    <tr>\n",
       "      <th>16704</th>\n",
       "      <td>16704</td>\n",
       "      <td>4210</td>\n",
       "      <td>219</td>\n",
       "      <td>1.000000</td>\n",
       "    </tr>\n",
       "    <tr>\n",
       "      <th>16705</th>\n",
       "      <td>16705</td>\n",
       "      <td>4210</td>\n",
       "      <td>220</td>\n",
       "      <td>0.937773</td>\n",
       "    </tr>\n",
       "    <tr>\n",
       "      <th>16706</th>\n",
       "      <td>16706</td>\n",
       "      <td>4210</td>\n",
       "      <td>221</td>\n",
       "      <td>0.988061</td>\n",
       "    </tr>\n",
       "  </tbody>\n",
       "</table>\n",
       "</div>"
      ],
      "text/plain": [
       "       d3mIndex  timestep  edgeID  association_strength\n",
       "16702     16702      4210     217              0.989705\n",
       "16703     16703      4210     218              0.985103\n",
       "16704     16704      4210     219              1.000000\n",
       "16705     16705      4210     220              0.937773\n",
       "16706     16706      4210     221              0.988061"
      ]
     },
     "metadata": {},
     "output_type": "display_data"
    }
   ],
   "source": [
    "non_zero_df = df.loc[~(df[['association_strength']]==0).all(axis=1)]\n",
    "print(non_zero_df.shape)\n",
    "display(non_zero_df.head(), non_zero_df.tail())"
   ]
  },
  {
   "cell_type": "code",
   "execution_count": 83,
   "metadata": {},
   "outputs": [
    {
     "data": {
      "image/png": "[encoded data removed]",
      "text/plain": [
       "<Figure size 432x288 with 1 Axes>"
      ]
     },
     "metadata": {
      "needs_background": "light"
     },
     "output_type": "display_data"
    }
   ],
   "source": [
    "stld_plot  = plot_acf(non_zero_df['association_strength'].values.squeeze(), lags=80)"
   ]
  },
  {
   "cell_type": "code",
   "execution_count": 157,
   "metadata": {},
   "outputs": [],
   "source": [
    "# join the learningData and edgeList data into a consolidated table\n",
    "\n",
    "enable_preprocess = False\n",
    "\n",
    "if enable_preprocess:\n",
    "    df = pd.read_csv(os.path.join(DATA_DIR, 'learningData.csv'))\n",
    "    print(df.shape)\n",
    "    print('(unique, min and max) time steps:', len(df['timestep'].unique()), df['timestep'].min(), df['timestep'].max())\n",
    "    \n",
    "    edges = pd.read_csv(os.path.join(DATA_DIR, 'edgeList.csv'))\n",
    "    print(edges.shape)\n",
    "    print('min and max edgeIDs:', edges['edgeID'].min(), edges['edgeID'].max())\n",
    "    print(\"---------------\")\n",
    "    \n",
    "    mddfs = []\n",
    "    for i, t in enumerate(df.timestep.unique()):\n",
    "        lddf = df[df.timestep==t][['timestep', 'edgeID', 'association_strength']]\n",
    "        lddf.drop_duplicates(subset='edgeID', inplace=True)\n",
    "        eddf = edges[['edgeID']]\n",
    "        mddf = lddf.merge(right=eddf, on='edgeID', how='outer')\n",
    "        mddf = mddf.drop_duplicates(keep='last')\n",
    "        # display(mddf.head(), mddf.tail())\n",
    "        mddf['timestep']=[t]*len(mddf)\n",
    "        mddf = mddf.fillna(0.0)\n",
    "        mddfs.append(mddf)\n",
    "    \n",
    "    bigdf = pd.concat(mddfs, axis=0)\n",
    "    bigdf.to_csv('timeseries.csv', index=None)\n",
    "    print(bigdf.shape)\n",
    "    "
   ]
  },
  {
   "cell_type": "code",
   "execution_count": 134,
   "metadata": {},
   "outputs": [
    {
     "name": "stdout",
     "output_type": "stream",
     "text": [
      "(827442, 3)\n",
      "unique edgeIDs 462\n",
      "(min and max) time steps (1, 4210)\n",
      "num of unique timesteps in edgeID groups [1791]\n"
     ]
    }
   ],
   "source": [
    "df = pd.read_csv('timeseries.csv')\n",
    "print(df.shape)\n",
    "print('unique edgeIDs', len(df['edgeID'].unique()))\n",
    "print('(min and max) time steps', (df['timestep'].min(), df['timestep'].max()))\n",
    "print('num of unique timesteps in edgeID groups', df.groupby('edgeID').count()['timestep'].unique())"
   ]
  },
  {
   "cell_type": "code",
   "execution_count": 135,
   "metadata": {},
   "outputs": [
    {
     "name": "stdout",
     "output_type": "stream",
     "text": [
      "(784938, 3) (42504, 3)\n"
     ]
    },
    {
     "data": {
      "text/html": [
       "<div>\n",
       "<style scoped>\n",
       "    .dataframe tbody tr th:only-of-type {\n",
       "        vertical-align: middle;\n",
       "    }\n",
       "\n",
       "    .dataframe tbody tr th {\n",
       "        vertical-align: top;\n",
       "    }\n",
       "\n",
       "    .dataframe thead th {\n",
       "        text-align: right;\n",
       "    }\n",
       "</style>\n",
       "<table border=\"1\" class=\"dataframe\">\n",
       "  <thead>\n",
       "    <tr style=\"text-align: right;\">\n",
       "      <th></th>\n",
       "      <th>timestep</th>\n",
       "      <th>edgeID</th>\n",
       "      <th>association_strength</th>\n",
       "    </tr>\n",
       "  </thead>\n",
       "  <tbody>\n",
       "    <tr>\n",
       "      <th>784933</th>\n",
       "      <td>3998</td>\n",
       "      <td>457</td>\n",
       "      <td>0.0</td>\n",
       "    </tr>\n",
       "    <tr>\n",
       "      <th>784934</th>\n",
       "      <td>3998</td>\n",
       "      <td>458</td>\n",
       "      <td>0.0</td>\n",
       "    </tr>\n",
       "    <tr>\n",
       "      <th>784935</th>\n",
       "      <td>3998</td>\n",
       "      <td>459</td>\n",
       "      <td>0.0</td>\n",
       "    </tr>\n",
       "    <tr>\n",
       "      <th>784936</th>\n",
       "      <td>3998</td>\n",
       "      <td>460</td>\n",
       "      <td>0.0</td>\n",
       "    </tr>\n",
       "    <tr>\n",
       "      <th>784937</th>\n",
       "      <td>3998</td>\n",
       "      <td>461</td>\n",
       "      <td>0.0</td>\n",
       "    </tr>\n",
       "  </tbody>\n",
       "</table>\n",
       "</div>"
      ],
      "text/plain": [
       "        timestep  edgeID  association_strength\n",
       "784933      3998     457                   0.0\n",
       "784934      3998     458                   0.0\n",
       "784935      3998     459                   0.0\n",
       "784936      3998     460                   0.0\n",
       "784937      3998     461                   0.0"
      ]
     },
     "metadata": {},
     "output_type": "display_data"
    },
    {
     "data": {
      "text/html": [
       "<div>\n",
       "<style scoped>\n",
       "    .dataframe tbody tr th:only-of-type {\n",
       "        vertical-align: middle;\n",
       "    }\n",
       "\n",
       "    .dataframe tbody tr th {\n",
       "        vertical-align: top;\n",
       "    }\n",
       "\n",
       "    .dataframe thead th {\n",
       "        text-align: right;\n",
       "    }\n",
       "</style>\n",
       "<table border=\"1\" class=\"dataframe\">\n",
       "  <thead>\n",
       "    <tr style=\"text-align: right;\">\n",
       "      <th></th>\n",
       "      <th>timestep</th>\n",
       "      <th>edgeID</th>\n",
       "      <th>association_strength</th>\n",
       "    </tr>\n",
       "  </thead>\n",
       "  <tbody>\n",
       "    <tr>\n",
       "      <th>827437</th>\n",
       "      <td>4210</td>\n",
       "      <td>457</td>\n",
       "      <td>0.0</td>\n",
       "    </tr>\n",
       "    <tr>\n",
       "      <th>827438</th>\n",
       "      <td>4210</td>\n",
       "      <td>458</td>\n",
       "      <td>0.0</td>\n",
       "    </tr>\n",
       "    <tr>\n",
       "      <th>827439</th>\n",
       "      <td>4210</td>\n",
       "      <td>459</td>\n",
       "      <td>0.0</td>\n",
       "    </tr>\n",
       "    <tr>\n",
       "      <th>827440</th>\n",
       "      <td>4210</td>\n",
       "      <td>460</td>\n",
       "      <td>0.0</td>\n",
       "    </tr>\n",
       "    <tr>\n",
       "      <th>827441</th>\n",
       "      <td>4210</td>\n",
       "      <td>461</td>\n",
       "      <td>0.0</td>\n",
       "    </tr>\n",
       "  </tbody>\n",
       "</table>\n",
       "</div>"
      ],
      "text/plain": [
       "        timestep  edgeID  association_strength\n",
       "827437      4210     457                   0.0\n",
       "827438      4210     458                   0.0\n",
       "827439      4210     459                   0.0\n",
       "827440      4210     460                   0.0\n",
       "827441      4210     461                   0.0"
      ]
     },
     "metadata": {},
     "output_type": "display_data"
    }
   ],
   "source": [
    "train_data = df[df['timestep'] < 4000]\n",
    "test_data = df[df['timestep'] >= 4000]\n",
    "print(train_data.shape, test_data.shape)\n",
    "display(train_data.tail(), test_data.tail())"
   ]
  },
  {
   "cell_type": "code",
   "execution_count": 136,
   "metadata": {},
   "outputs": [],
   "source": [
    "enable_fit = False\n",
    "\n",
    "if enable_fit:\n",
    "    fitted_models = {}\n",
    "    for edgeID in df['edgeID'].unique():\n",
    "        print(edgeID, end=',')\n",
    "        x_train = train_data[train_data['edgeID']==edgeID]['association_strength']\n",
    "        x_test = test_data[test_data['edgeID']==edgeID]['association_strength']\n",
    "        x_train.index = train_data[train_data['edgeID']==edgeID]['timestep']\n",
    "        x_test.index = test_data[test_data['edgeID']==edgeID]['timestep']\n",
    "\n",
    "        history_endo = [x for x in x_train]\n",
    "        # add a small noise to history_endo1 (to avoid constant and invariancy exceptions)\n",
    "        mu, sigma = 0, 0.01\n",
    "        rng = np.random.RandomState(42)\n",
    "        noise = rng.normal(mu, sigma, len(history_endo))\n",
    "        history_endo += noise\n",
    "\n",
    "        predictions = list()\n",
    "        for i, t in enumerate(x_test.index.values):\n",
    "            model = ARIMA(history_endo, order=(1,1,0))\n",
    "            model_fit = model.fit(disp=0)\n",
    "            output = model_fit.forecast(steps=1)\n",
    "            yhat = output[0][0]\n",
    "            yhat = np.where(yhat<0, 0, yhat)\n",
    "            predictions.append(yhat)\n",
    "            obs = x_test[t]\n",
    "            history_endo = np.append(history_endo, obs)\n",
    "            # print(i, 'predicted=%f, expected=%f' % (yhat, obs))\n",
    "            fitted_models[edgeID] = model_fit\n",
    "    save_pickle(fitted_models, 'fitted_models.pickle')"
   ]
  },
  {
   "cell_type": "code",
   "execution_count": 137,
   "metadata": {},
   "outputs": [],
   "source": [
    "fitted_models = load_pickle('fitted_models.pickle')"
   ]
  },
  {
   "cell_type": "code",
   "execution_count": 138,
   "metadata": {},
   "outputs": [
    {
     "name": "stdout",
     "output_type": "stream",
     "text": [
      "0,1,2,3,4,5,6,7,8,9,10,11,12,13,14,15,16,17,18,19,20,21,22,23,24,25,26,27,28,29,30,31,32,33,34,35,36,37,38,39,40,41,42,43,44,45,46,47,48,49,50,51,52,53,54,55,56,57,58,59,60,61,62,63,64,65,66,67,68,69,70,71,72,73,74,75,76,77,78,79,80,81,82,83,84,85,86,87,88,89,90,91,92,93,94,95,96,97,98,99,100,101,102,103,104,105,106,107,108,109,110,111,112,113,114,115,116,117,118,119,120,121,122,123,124,125,126,127,128,129,130,131,132,133,134,135,136,137,138,139,140,141,142,143,144,145,146,147,148,149,150,151,152,153,154,155,156,157,158,159,160,161,162,163,164,165,166,167,168,169,170,171,172,173,174,175,176,177,178,179,180,181,182,183,184,185,186,187,188,189,190,191,192,193,194,195,196,197,198,199,200,201,202,203,204,205,206,207,208,209,210,211,212,213,214,215,216,217,218,219,220,221,222,223,224,225,226,227,228,229,230,231,232,233,234,235,236,237,238,239,240,241,242,243,244,245,246,247,248,249,250,251,252,253,254,255,256,257,258,259,260,261,262,263,264,265,266,267,268,269,270,271,272,273,274,275,276,277,278,279,280,281,282,283,284,285,286,287,288,289,290,291,292,293,294,295,296,297,298,299,300,301,302,303,304,305,306,307,308,309,310,311,312,313,314,315,316,317,318,319,320,321,322,323,324,325,326,327,328,329,330,331,332,333,334,335,336,337,338,339,340,341,342,343,344,345,346,347,348,349,350,351,352,353,354,355,356,357,358,359,360,361,362,363,364,365,366,367,368,369,370,371,372,373,374,375,376,377,378,379,380,381,382,383,384,385,386,387,388,389,390,391,392,393,394,395,396,397,398,399,400,401,402,403,404,405,406,407,408,409,410,411,412,413,414,415,416,417,418,419,420,421,422,423,424,425,426,427,428,429,430,431,432,433,434,435,436,437,438,439,440,441,442,443,444,445,446,447,448,449,450,451,452,453,454,455,456,457,458,459,460,461,"
     ]
    }
   ],
   "source": [
    "test_predictions = []\n",
    "for edgeID in df['edgeID'].unique():\n",
    "    print(edgeID, end=',')\n",
    "    x_test = test_data[test_data['edgeID']==edgeID]['association_strength']\n",
    "    x_test.index = test_data[test_data['edgeID']==edgeID]['timestep']\n",
    "    \n",
    "    model_fit = fitted_models[edgeID]\n",
    "    output = model_fit.forecast(steps=len(x_test))\n",
    "    yhat = output[0]\n",
    "    yhat = np.where(yhat<0, 0, yhat)\n",
    "    yhat_df = pd.DataFrame(yhat, columns=['pred_value'])\n",
    "    yhat_df['edgeID'] = [edgeID]*len(yhat_df)\n",
    "    yhat_df.index = x_test.index\n",
    "    test_predictions.append(yhat_df)\n",
    "\n",
    "test_predictions_df = pd.concat(test_predictions)"
   ]
  },
  {
   "cell_type": "code",
   "execution_count": 153,
   "metadata": {},
   "outputs": [
    {
     "name": "stdout",
     "output_type": "stream",
     "text": [
      "(42504, 4)\n"
     ]
    },
    {
     "data": {
      "text/html": [
       "<div>\n",
       "<style scoped>\n",
       "    .dataframe tbody tr th:only-of-type {\n",
       "        vertical-align: middle;\n",
       "    }\n",
       "\n",
       "    .dataframe tbody tr th {\n",
       "        vertical-align: top;\n",
       "    }\n",
       "\n",
       "    .dataframe thead th {\n",
       "        text-align: right;\n",
       "    }\n",
       "</style>\n",
       "<table border=\"1\" class=\"dataframe\">\n",
       "  <thead>\n",
       "    <tr style=\"text-align: right;\">\n",
       "      <th></th>\n",
       "      <th>timestep</th>\n",
       "      <th>edgeID</th>\n",
       "      <th>association_strength</th>\n",
       "      <th>pred_value</th>\n",
       "    </tr>\n",
       "  </thead>\n",
       "  <tbody>\n",
       "    <tr>\n",
       "      <th>0</th>\n",
       "      <td>4000</td>\n",
       "      <td>308</td>\n",
       "      <td>0.000000</td>\n",
       "      <td>0.0</td>\n",
       "    </tr>\n",
       "    <tr>\n",
       "      <th>1</th>\n",
       "      <td>4000</td>\n",
       "      <td>309</td>\n",
       "      <td>0.000000</td>\n",
       "      <td>0.0</td>\n",
       "    </tr>\n",
       "    <tr>\n",
       "      <th>2</th>\n",
       "      <td>4000</td>\n",
       "      <td>310</td>\n",
       "      <td>0.000000</td>\n",
       "      <td>0.0</td>\n",
       "    </tr>\n",
       "    <tr>\n",
       "      <th>3</th>\n",
       "      <td>4000</td>\n",
       "      <td>311</td>\n",
       "      <td>0.000000</td>\n",
       "      <td>0.0</td>\n",
       "    </tr>\n",
       "    <tr>\n",
       "      <th>4</th>\n",
       "      <td>4000</td>\n",
       "      <td>312</td>\n",
       "      <td>0.814388</td>\n",
       "      <td>0.0</td>\n",
       "    </tr>\n",
       "  </tbody>\n",
       "</table>\n",
       "</div>"
      ],
      "text/plain": [
       "   timestep  edgeID  association_strength  pred_value\n",
       "0      4000     308              0.000000         0.0\n",
       "1      4000     309              0.000000         0.0\n",
       "2      4000     310              0.000000         0.0\n",
       "3      4000     311              0.000000         0.0\n",
       "4      4000     312              0.814388         0.0"
      ]
     },
     "metadata": {},
     "output_type": "display_data"
    }
   ],
   "source": [
    "# scoring on full test data\n",
    "score_df = test_data.merge(right=test_predictions_df, on=['timestep', 'edgeID'], how='inner')\n",
    "score_df.reset_index(inplace=True, drop=True)\n",
    "print(score_df.shape)\n",
    "display(score_df.head())"
   ]
  },
  {
   "cell_type": "code",
   "execution_count": 142,
   "metadata": {},
   "outputs": [
    {
     "data": {
      "text/plain": [
       "0.08625224401298885"
      ]
     },
     "execution_count": 142,
     "metadata": {},
     "output_type": "execute_result"
    }
   ],
   "source": [
    "rmse = sqrt(mean_squared_error(score_df[ENDO_VAR], score_df['pred_value']))\n",
    "rmse"
   ]
  },
  {
   "cell_type": "code",
   "execution_count": 143,
   "metadata": {},
   "outputs": [
    {
     "data": {
      "text/plain": [
       "<matplotlib.axes._subplots.AxesSubplot at 0x14fb81925278>"
      ]
     },
     "execution_count": 143,
     "metadata": {},
     "output_type": "execute_result"
    },
    {
     "data": {
      "image/png": "[encoded data removed]",
      "text/plain": [
       "<Figure size 432x288 with 1 Axes>"
      ]
     },
     "metadata": {
      "needs_background": "light"
     },
     "output_type": "display_data"
    }
   ],
   "source": [
    "autocorrelation_plot(score_df['association_strength'])"
   ]
  },
  {
   "cell_type": "code",
   "execution_count": 144,
   "metadata": {
    "scrolled": true
   },
   "outputs": [
    {
     "data": {
      "text/plain": [
       "<matplotlib.axes._subplots.AxesSubplot at 0x14fb8187ffd0>"
      ]
     },
     "execution_count": 144,
     "metadata": {},
     "output_type": "execute_result"
    },
    {
     "data": {
      "image/png": "[encoded data removed]",
      "text/plain": [
       "<Figure size 432x288 with 1 Axes>"
      ]
     },
     "metadata": {
      "needs_background": "light"
     },
     "output_type": "display_data"
    }
   ],
   "source": [
    "autocorrelation_plot(score_df['pred_value'])"
   ]
  },
  {
   "cell_type": "code",
   "execution_count": 147,
   "metadata": {},
   "outputs": [
    {
     "data": {
      "text/html": [
       "<div>\n",
       "<style scoped>\n",
       "    .dataframe tbody tr th:only-of-type {\n",
       "        vertical-align: middle;\n",
       "    }\n",
       "\n",
       "    .dataframe tbody tr th {\n",
       "        vertical-align: top;\n",
       "    }\n",
       "\n",
       "    .dataframe thead th {\n",
       "        text-align: right;\n",
       "    }\n",
       "</style>\n",
       "<table border=\"1\" class=\"dataframe\">\n",
       "  <thead>\n",
       "    <tr style=\"text-align: right;\">\n",
       "      <th></th>\n",
       "      <th>index</th>\n",
       "      <th>timestep</th>\n",
       "      <th>edgeID</th>\n",
       "      <th>association_strength</th>\n",
       "      <th>pred_value</th>\n",
       "    </tr>\n",
       "  </thead>\n",
       "  <tbody>\n",
       "    <tr>\n",
       "      <th>4</th>\n",
       "      <td>4</td>\n",
       "      <td>4000</td>\n",
       "      <td>312</td>\n",
       "      <td>0.814388</td>\n",
       "      <td>0.000000</td>\n",
       "    </tr>\n",
       "    <tr>\n",
       "      <th>8</th>\n",
       "      <td>8</td>\n",
       "      <td>4000</td>\n",
       "      <td>428</td>\n",
       "      <td>1.000000</td>\n",
       "      <td>0.000000</td>\n",
       "    </tr>\n",
       "    <tr>\n",
       "      <th>50</th>\n",
       "      <td>50</td>\n",
       "      <td>4000</td>\n",
       "      <td>36</td>\n",
       "      <td>0.000000</td>\n",
       "      <td>0.456430</td>\n",
       "    </tr>\n",
       "    <tr>\n",
       "      <th>51</th>\n",
       "      <td>51</td>\n",
       "      <td>4000</td>\n",
       "      <td>37</td>\n",
       "      <td>0.000000</td>\n",
       "      <td>0.414648</td>\n",
       "    </tr>\n",
       "    <tr>\n",
       "      <th>52</th>\n",
       "      <td>52</td>\n",
       "      <td>4000</td>\n",
       "      <td>38</td>\n",
       "      <td>0.000000</td>\n",
       "      <td>0.501126</td>\n",
       "    </tr>\n",
       "  </tbody>\n",
       "</table>\n",
       "</div>"
      ],
      "text/plain": [
       "    index  timestep  edgeID  association_strength  pred_value\n",
       "4       4      4000     312              0.814388    0.000000\n",
       "8       8      4000     428              1.000000    0.000000\n",
       "50     50      4000      36              0.000000    0.456430\n",
       "51     51      4000      37              0.000000    0.414648\n",
       "52     52      4000      38              0.000000    0.501126"
      ]
     },
     "metadata": {},
     "output_type": "display_data"
    }
   ],
   "source": [
    "# scoring only on non-zero values in test data\n",
    "score_df = score_df.loc[~(score_df[['association_strength', 'pred_value']]==0).all(axis=1)]\n",
    "display(score_df.head())"
   ]
  },
  {
   "cell_type": "code",
   "execution_count": 148,
   "metadata": {},
   "outputs": [
    {
     "data": {
      "text/plain": [
       "0.6084940962755011"
      ]
     },
     "execution_count": 148,
     "metadata": {},
     "output_type": "execute_result"
    }
   ],
   "source": [
    "rmse = sqrt(mean_squared_error(score_df[ENDO_VAR], score_df['pred_value']))\n",
    "rmse"
   ]
  },
  {
   "cell_type": "code",
   "execution_count": 149,
   "metadata": {},
   "outputs": [
    {
     "data": {
      "text/plain": [
       "<matplotlib.axes._subplots.AxesSubplot at 0x14fb832d2a20>"
      ]
     },
     "execution_count": 149,
     "metadata": {},
     "output_type": "execute_result"
    },
    {
     "data": {
      "image/png": "[encoded data removed]",
      "text/plain": [
       "<Figure size 432x288 with 1 Axes>"
      ]
     },
     "metadata": {
      "needs_background": "light"
     },
     "output_type": "display_data"
    }
   ],
   "source": [
    "autocorrelation_plot(score_df['association_strength'])"
   ]
  },
  {
   "cell_type": "code",
   "execution_count": 151,
   "metadata": {},
   "outputs": [
    {
     "data": {
      "image/png": "[encoded data removed]",
      "text/plain": [
       "<Figure size 432x288 with 1 Axes>"
      ]
     },
     "metadata": {
      "needs_background": "light"
     },
     "output_type": "display_data"
    }
   ],
   "source": [
    "stld_plot  = plot_acf(score_df['association_strength'].values.squeeze(), lags=100)"
   ]
  },
  {
   "cell_type": "code",
   "execution_count": 150,
   "metadata": {
    "scrolled": true
   },
   "outputs": [
    {
     "data": {
      "text/plain": [
       "<matplotlib.axes._subplots.AxesSubplot at 0x14fb817c5ef0>"
      ]
     },
     "execution_count": 150,
     "metadata": {},
     "output_type": "execute_result"
    },
    {
     "data": {
      "image/png": "[encoded data removed]",
      "text/plain": [
       "<Figure size 432x288 with 1 Axes>"
      ]
     },
     "metadata": {
      "needs_background": "light"
     },
     "output_type": "display_data"
    }
   ],
   "source": [
    "autocorrelation_plot(score_df['pred_value'])"
   ]
  },
  {
   "cell_type": "code",
   "execution_count": 152,
   "metadata": {},
   "outputs": [
    {
     "data": {
      "image/png": "[encoded data removed]",
      "text/plain": [
       "<Figure size 432x288 with 1 Axes>"
      ]
     },
     "metadata": {
      "needs_background": "light"
     },
     "output_type": "display_data"
    }
   ],
   "source": [
    "stld_plot  = plot_acf(score_df['pred_value'].values.squeeze(), lags=100)"
   ]
  },
  {
   "cell_type": "code",
   "execution_count": null,
   "metadata": {},
   "outputs": [],
   "source": []
  }
 ],
 "metadata": {
  "kernelspec": {
   "display_name": "Python 3",
   "language": "python",
   "name": "python3"
  },
  "language_info": {
   "codemirror_mode": {
    "name": "ipython",
    "version": 3
   },
   "file_extension": ".py",
   "mimetype": "text/x-python",
   "name": "python",
   "nbconvert_exporter": "python",
   "pygments_lexer": "ipython3",
   "version": "3.6.9"
  },
  "latex_envs": {
   "LaTeX_envs_menu_present": true,
   "autoclose": false,
   "autocomplete": true,
   "bibliofile": "biblio.bib",
   "cite_by": "apalike",
   "current_citInitial": 1,
   "eqLabelWithNumbers": true,
   "eqNumInitial": 1,
   "hotkeys": {
    "equation": "Ctrl-E",
    "itemize": "Ctrl-I"
   },
   "labels_anchors": false,
   "latex_user_defs": false,
   "report_style_numbering": false,
   "user_envs_cfg": false
  },
  "toc": {
   "base_numbering": 1,
   "nav_menu": {},
   "number_sections": true,
   "sideBar": true,
   "skip_h1_title": false,
   "title_cell": "Table of Contents",
   "title_sidebar": "Contents",
   "toc_cell": false,
   "toc_position": {},
   "toc_section_display": true,
   "toc_window_display": false
  },
  "varInspector": {
   "cols": {
    "lenName": 16,
    "lenType": 16,
    "lenVar": 40
   },
   "kernels_config": {
    "python": {
     "delete_cmd_postfix": "",
     "delete_cmd_prefix": "del ",
     "library": "var_list.py",
     "varRefreshCmd": "print(var_dic_list())"
    },
    "r": {
     "delete_cmd_postfix": ") ",
     "delete_cmd_prefix": "rm(",
     "library": "var_list.r",
     "varRefreshCmd": "cat(var_dic_list()) "
    }
   },
   "types_to_exclude": [
    "module",
    "function",
    "builtin_function_or_method",
    "instance",
    "_Feature"
   ],
   "window_display": false
  }
 },
 "nbformat": 4,
 "nbformat_minor": 2
}
